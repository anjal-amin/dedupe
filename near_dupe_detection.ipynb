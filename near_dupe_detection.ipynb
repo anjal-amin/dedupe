{
  "nbformat": 4,
  "nbformat_minor": 0,
  "metadata": {
    "colab": {
      "provenance": [],
      "authorship_tag": "ABX9TyNG9oqScrM7AiIu2V44GpQf",
      "include_colab_link": true
    },
    "kernelspec": {
      "name": "python3",
      "display_name": "Python 3"
    },
    "language_info": {
      "name": "python"
    }
  },
  "cells": [
    {
      "cell_type": "markdown",
      "metadata": {
        "id": "view-in-github",
        "colab_type": "text"
      },
      "source": [
        "<a href=\"https://colab.research.google.com/github/anjal-amin/dedupe/blob/main/near_dupe_detection.ipynb\" target=\"_parent\"><img src=\"https://colab.research.google.com/assets/colab-badge.svg\" alt=\"Open In Colab\"/></a>"
      ]
    },
    {
      "cell_type": "markdown",
      "source": [
        "This notebook demonstrates how to create a machine learning model trained on Jaccard's Index so we can quickly and accurately determine how similar the input text compares to stored text.\n",
        "\n",
        "We define \"duplicate\" as similar text no matter if the words, sentences or paragraphs have been rearanged."
      ],
      "metadata": {
        "id": "JAjJve5lST5I"
      }
    },
    {
      "cell_type": "code",
      "source": [
        "!pip install faiss-gpu\n",
        "!pip install nltk"
      ],
      "metadata": {
        "id": "3b4Yi_7UXCO4"
      },
      "execution_count": null,
      "outputs": []
    },
    {
      "cell_type": "code",
      "source": [
        "from sklearn.feature_extraction.text import CountVectorizer\n",
        "from sklearn.neighbors import KNeighborsRegressor\n",
        "from sklearn.model_selection import train_test_split\n",
        "from sklearn.metrics import mean_squared_error"
      ],
      "metadata": {
        "id": "MBA6cmnpVFIb"
      },
      "execution_count": 2,
      "outputs": []
    },
    {
      "cell_type": "code",
      "source": [
        "data = [\n",
        "    (\"This is a sample text\", \"A sample text for testing\", 0.6),\n",
        "    (\"Python is great\", \"I love programming in Python\", 0.4),\n",
        "]"
      ],
      "metadata": {
        "id": "J2UcUvpqWMvw"
      },
      "execution_count": 3,
      "outputs": []
    },
    {
      "cell_type": "code",
      "source": [
        "texts1, texts2, jaccard_similarity = zip(*data)"
      ],
      "metadata": {
        "id": "bKdsssrqWQQN"
      },
      "execution_count": 4,
      "outputs": []
    },
    {
      "cell_type": "code",
      "source": [
        "vectorizer = CountVectorizer(binary=True)\n",
        "X1 = vectorizer.fit_transform(texts1)\n",
        "X2 = vectorizer.transform(texts2)"
      ],
      "metadata": {
        "id": "JTv6BUbvWYle"
      },
      "execution_count": 5,
      "outputs": []
    },
    {
      "cell_type": "code",
      "source": [
        "X = X1 + X2\n",
        "print(X)"
      ],
      "metadata": {
        "id": "QWGcrAJaWaxZ"
      },
      "execution_count": null,
      "outputs": []
    },
    {
      "cell_type": "code",
      "source": [
        "X_train, X_test, y_train, y_test = train_test_split(X, jaccard_similarity, test_size=0.2, random_state=42)"
      ],
      "metadata": {
        "id": "-vELLaO5WfJv"
      },
      "execution_count": 7,
      "outputs": []
    },
    {
      "cell_type": "code",
      "source": [
        "knn_model = KNeighborsRegressor(n_neighbors=1)  # Reduced number of neighbors\n",
        "knn_model.fit(X_train, y_train)"
      ],
      "metadata": {
        "id": "o3jS8T9jWhj_"
      },
      "execution_count": null,
      "outputs": []
    },
    {
      "cell_type": "code",
      "source": [
        "y_pred = knn_model.predict(X_test)\n",
        "print(y_pred)"
      ],
      "metadata": {
        "id": "04jaxskCWkEO"
      },
      "execution_count": null,
      "outputs": []
    },
    {
      "cell_type": "code",
      "source": [
        "mse = mean_squared_error(y_test, y_pred)\n",
        "print(f\"Mean Squared Error: {mse:.2f}\")"
      ],
      "metadata": {
        "id": "zHcLeZu7Wl1d"
      },
      "execution_count": null,
      "outputs": []
    }
  ]
}